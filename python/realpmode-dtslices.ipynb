{
 "cells": [
  {
   "cell_type": "code",
   "execution_count": 119,
   "metadata": {},
   "outputs": [
    {
     "name": "stdout",
     "output_type": "stream",
     "text": [
      "(124, 124, 829)\n"
     ]
    }
   ],
   "source": [
    "from scipy.io import loadmat\n",
    "import numpy as np\n",
    "import matplotlib.pyplot as plt\n",
    "\n",
    "#‘’'\n",
    "#% Thesea are the meanings of the labels. y direction\n",
    "#    evelchrom_vh(i,:)=myval( 126,:,20);  %  horizontal section in chrom at  20\n",
    "#    eveltran_vh(i,:)=myval( 126,:,42);   %  horizontal section in transition layer at 42\n",
    "#    evelcor_vh(i,:)=myval( 126,:,90);    %  horizontal section in corona at 90\n",
    "#    evel2Mm_vh(i,:)=myval(126,126,:);  %vertical section at 2Mm  62\n",
    "#    evel1Mm_vh(i,:)=myval(126,63,:);  %vertical section at 1Mm  31\n",
    "#    evelp5Mm_vh(i,:)=myval(126,31,:);  %vertical section at 0.5Mm 15\n",
    "#‘’'\n",
    "\n",
    "#uni1vmag=sio.loadmat('../../washmc-data/uni4/vmagverustime.mat')\n",
    "#x = loadmat('../../washmc-data/spic_5b2_2_bv100G_ydir_vvt.mat')\n",
    "#x = loadmat('../../washmc-data/vvzverustime.mat')\n",
    "x = loadmat('../../washmc-data/pvvt.mat')\n",
    "#print(x)\n",
    "#data=x['evelp5Mm_vh'].T\n",
    "data=x['evelp5Mm']\n",
    "\n",
    "\n",
    "#data = x['evelchrom_vh']\n",
    "print(np.shape(data))\n",
    "dp=data[62,1:62,1:500]\n",
    "\n"
   ]
  },
  {
   "cell_type": "markdown",
   "metadata": {},
   "source": [
    "print(x)"
   ]
  },
  {
   "cell_type": "code",
   "execution_count": 120,
   "metadata": {
    "scrolled": true
   },
   "outputs": [
    {
     "data": {
      "image/png": "[encoded data removed]",
      "text/plain": [
       "<Figure size 432x288 with 1 Axes>"
      ]
     },
     "metadata": {
      "needs_background": "light"
     },
     "output_type": "display_data"
    }
   ],
   "source": [
    "plt.figure()\n",
    "plt.imshow(dp, origin='lower')\n",
    "plt.show()"
   ]
  },
  {
   "cell_type": "code",
   "execution_count": 103,
   "metadata": {},
   "outputs": [
    {
     "name": "stdout",
     "output_type": "stream",
     "text": [
      "[[2.70566491e-04 5.28222385e-04 8.15047917e-04 ... 1.00932284e-03\n",
      "  6.95723404e-04 4.00381060e-04]\n",
      " [9.25281195e-04 1.81223695e-03 2.80217808e-03 ... 3.17735435e-03\n",
      "  2.26077590e-03 1.38626417e-03]\n",
      " [1.91207229e-03 3.65814606e-03 5.60058908e-03 ... 6.73911623e-03\n",
      "  4.71868340e-03 2.54622905e-03]\n",
      " ...\n",
      " [1.34630992e-09 2.59609892e-07 5.37222509e-06 ... 2.35856670e+00\n",
      "  2.42224579e+00 2.48733647e+00]\n",
      " [1.15622355e-09 2.34979796e-07 5.00726767e-06 ... 2.31897536e+00\n",
      "  2.39001249e+00 2.44831079e+00]\n",
      " [9.90419045e-10 2.12084825e-07 4.67525718e-06 ... 2.27388347e+00\n",
      "  2.35035682e+00 2.40271324e+00]]\n"
     ]
    }
   ],
   "source": [
    "print(dp)\n"
   ]
  },
  {
   "cell_type": "code",
   "execution_count": 104,
   "metadata": {},
   "outputs": [
    {
     "name": "stdout",
     "output_type": "stream",
     "text": [
      "5.0366432021321215\n"
     ]
    }
   ],
   "source": [
    "print(np.max(dp))"
   ]
  },
  {
   "cell_type": "code",
   "execution_count": null,
   "metadata": {},
   "outputs": [],
   "source": []
  }
 ],
 "metadata": {
  "kernelspec": {
   "display_name": "Python 3",
   "language": "python",
   "name": "python3"
  },
  "language_info": {
   "codemirror_mode": {
    "name": "ipython",
    "version": 3
   },
   "file_extension": ".py",
   "mimetype": "text/x-python",
   "name": "python",
   "nbconvert_exporter": "python",
   "pygments_lexer": "ipython3",
   "version": "3.7.7"
  }
 },
 "nbformat": 4,
 "nbformat_minor": 4
}
